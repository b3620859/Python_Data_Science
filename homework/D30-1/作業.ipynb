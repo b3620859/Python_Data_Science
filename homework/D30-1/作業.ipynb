{
 "cells": [
  {
   "cell_type": "markdown",
   "metadata": {},
   "source": [
    "## 作業:\n",
    "作業目標，讓大家熟悉連續型分配的語法，\n",
    "以及怎麼透過 python 語法進行常態分配的機率運算。\n"
   ]
  },
  {
   "cell_type": "markdown",
   "metadata": {},
   "source": [
    "### Q1:計算標準常態分配，小於1的機率有多大?\n",
    "![](Q1.png)"
   ]
  },
  {
   "cell_type": "code",
   "execution_count": 1,
   "metadata": {
    "colab": {
     "base_uri": "https://localhost:8080/",
     "height": 34
    },
    "colab_type": "code",
    "executionInfo": {
     "elapsed": 1558,
     "status": "ok",
     "timestamp": 1578021044012,
     "user": {
      "displayName": "Mora chen",
      "photoUrl": "https://lh3.googleusercontent.com/a-/AAuE7mB40f7sDArbZ5_DYq02nNcnLD0Ryaf7AhsASSQeLQ=s64",
      "userId": "03171203089166907199"
     },
     "user_tz": -480
    },
    "id": "yz28_IgkYdBW",
    "outputId": "a12f486c-18b3-4fb5-d06c-f162aebd9444"
   },
   "outputs": [],
   "source": [
    "# library\n",
    "import matplotlib.pyplot as plt\n",
    "import numpy as np\n",
    "import pandas as pd\n",
    "from scipy import stats\n",
    "import math\n",
    "import statistics\n",
    "import seaborn as sns"
   ]
  },
  {
   "cell_type": "code",
   "execution_count": 2,
   "metadata": {},
   "outputs": [
    {
     "data": {
      "image/png": "[encoded data removed]",
      "text/plain": [
       "<Figure size 432x288 with 1 Axes>"
      ]
     },
     "metadata": {
      "needs_background": "light"
     },
     "output_type": "display_data"
    }
   ],
   "source": [
    "## Q1\n",
    "#  提示: 用 cdf 來算\n",
    "\n",
    "#1.設定使用參數\n",
    "mu=0\n",
    "sigma=1\n",
    "x=np.linspace(-4, 4, 500)\n",
    "# 2.產生 pdf圖\n",
    "y = stats.norm.pdf(x,mu, sigma)\n",
    "plt.plot(x, y, \"b-\", linewidth=2)\n",
    "#plt.grid(True)\n",
    "plt.title('pdf of Norma(0,1)')\n",
    "plt.show()"
   ]
  },
  {
   "cell_type": "code",
   "execution_count": 5,
   "metadata": {},
   "outputs": [
    {
     "name": "stdout",
     "output_type": "stream",
     "text": [
      "P(X<=x) 0.8413447460685429\n"
     ]
    }
   ],
   "source": [
    "# 3.計算常態分配的累積機率 (cumulative density function)，pdf 的積分\n",
    "cumsum_probs =  stats.norm.cdf(1,mu, sigma)\n",
    "print('P(X<=x)', cumsum_probs)"
   ]
  },
  {
   "cell_type": "markdown",
   "metadata": {},
   "source": [
    "### Q2:計算標準常態分配，大於1，小於 -1 的機率有多大?\n",
    "![](Q2.png)\n"
   ]
  },
  {
   "cell_type": "code",
   "execution_count": 6,
   "metadata": {},
   "outputs": [
    {
     "name": "stdout",
     "output_type": "stream",
     "text": [
      "P(Z>1 or Z<-1)= 0.31731050786291415\n"
     ]
    }
   ],
   "source": [
    "## Q2\n",
    "## 先算 p(<-1X<1)，再算  P(X>1 or X<-1)\n",
    "mu=0\n",
    "sigma=1\n",
    "b=  stats.norm.cdf(1,mu, sigma)\n",
    "a=  stats.norm.cdf(-1,mu, sigma)\n",
    "print(\"P(Z>1 or Z<-1)=\",1-(b-a))"
   ]
  },
  {
   "cell_type": "markdown",
   "metadata": {},
   "source": [
    "### Q3:X~N(2,4),x 服從常態分配，平均數為2,變異數為 4，計算 X小於 6 的機率有多大?"
   ]
  },
  {
   "cell_type": "code",
   "execution_count": 7,
   "metadata": {},
   "outputs": [
    {
     "name": "stdout",
     "output_type": "stream",
     "text": [
      "P(Z<2)= 0.9772498680518208\n"
     ]
    }
   ],
   "source": [
    "## Q3\n",
    "#  提示: 和 Q1,Q2 不同，要先標準化。\n",
    "#算法1\n",
    "mu=0\n",
    "sigma=1\n",
    "b=  stats.norm.cdf(2,mu, sigma)\n",
    "print(\"P(Z<2)=\",b)"
   ]
  },
  {
   "cell_type": "code",
   "execution_count": 8,
   "metadata": {},
   "outputs": [
    {
     "name": "stdout",
     "output_type": "stream",
     "text": [
      "P(X<6)= 0.9772498680518208\n"
     ]
    }
   ],
   "source": [
    "#算法2\n",
    "mu=2\n",
    "sigma=2 #( 4 要開根號)\n",
    "b= stats.norm.cdf(6,mu, sigma)\n",
    "print(\"P(X<6)=\",b)"
   ]
  }
 ],
 "metadata": {
  "colab": {
   "name": "Day33.YOLO 細節理解 - 網路輸出的後處理_HW.ipynb",
   "provenance": []
  },
  "kernelspec": {
   "display_name": "Python 3",
   "language": "python",
   "name": "python3"
  },
  "language_info": {
   "codemirror_mode": {
    "name": "ipython",
    "version": 3
   },
   "file_extension": ".py",
   "mimetype": "text/x-python",
   "name": "python",
   "nbconvert_exporter": "python",
   "pygments_lexer": "ipython3",
   "version": "3.6.8"
  }
 },
 "nbformat": 4,
 "nbformat_minor": 4
}
